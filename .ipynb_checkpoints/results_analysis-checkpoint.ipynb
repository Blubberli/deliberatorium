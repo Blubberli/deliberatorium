{
 "cells": [
  {
   "cell_type": "code",
   "execution_count": null,
   "metadata": {},
   "outputs": [],
   "source": [
    "metric = 'p1'\n",
    "metric = 'p5'\n",
    "metric = 'mrr'\n",
    "\n",
    "variant = 'all'\n",
    "variant = 'only_leafs_limited_types'\n",
    "\n",
    "ext = 'svg'"
   ]
  },
  {
   "cell_type": "code",
   "execution_count": null,
   "metadata": {},
   "outputs": [],
   "source": [
    "import pandas as pd\n",
    "from pathlib import Path\n",
    "import json\n",
    "\n",
    "data_path = Path.home() / 'data/delib-results/results'\n",
    "\n",
    "\n",
    "all_results = []\n",
    "for i, f in enumerate(data_path.glob('xlm-roberta-base-trained-on-*/results/*')):\n",
    "    results = json.loads(f.read_text())\n",
    "    all_results.append({'source': f.parent.parent.name.rsplit('-', 1)[-1], 'target': f.stem, 'performance': results[variant][metric]})\n",
    "\n",
    "df = pd.DataFrame(all_results)\n",
    "df"
   ]
  },
  {
   "cell_type": "code",
   "execution_count": null,
   "metadata": {},
   "outputs": [],
   "source": [
    "import seaborn as sns\n",
    "\n",
    "g = sns.heatmap(df.pivot_table(values='performance', index='source', columns='target'), annot=True, cmap=sns.cubehelix_palette(start=.5, rot=-.5, dark=0.3, light=.80, reverse=True, as_cmap=True))\n",
    "g.set_xticklabels(g.get_xticklabels(), rotation = 30);\n",
    "fig = g.get_figure()\n",
    "fig.savefig(f'results/{variant}-{metric}.{ext}', format=ext)"
   ]
  }
 ],
 "metadata": {
  "kernelspec": {
   "display_name": "Python 3",
   "language": "python",
   "name": "python3"
  },
  "language_info": {
   "codemirror_mode": {
    "name": "ipython",
    "version": 3
   },
   "file_extension": ".py",
   "mimetype": "text/x-python",
   "name": "python",
   "nbconvert_exporter": "python",
   "pygments_lexer": "ipython3",
   "version": "3.9.2"
  }
 },
 "nbformat": 4,
 "nbformat_minor": 4
}
