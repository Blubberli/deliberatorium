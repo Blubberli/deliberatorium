{
 "cells": [
  {
   "cell_type": "code",
   "execution_count": null,
   "metadata": {},
   "outputs": [],
   "source": [
    "%run base.ipynb"
   ]
  },
  {
   "cell_type": "code",
   "execution_count": null,
   "metadata": {},
   "outputs": [],
   "source": [
    "experiment = 'new/all-mpnet-zero'\n",
    "# experiment = 'new/all-mpnet-mulneg'\n",
    "# experiment = 'new/all-mpnet-mulneg-beginning'\n",
    "# experiment = 'new/all-mpnet-mulneg-pro_con'\n",
    "\n",
    "experiment_path = get_experiment_path(experiment)\n",
    "experiment_path"
   ]
  },
  {
   "cell_type": "markdown",
   "metadata": {},
   "source": [
    "## Maps "
   ]
  },
  {
   "cell_type": "code",
   "execution_count": null,
   "metadata": {},
   "outputs": [],
   "source": [
    "import pandas as pd\n",
    "from pathlib import Path\n",
    "\n",
    "from kialo_util import read_data\n",
    "\n",
    "maps = read_data({'local': True, 'debug_maps_size': 10, 'debug_maps_size': None, 'lang': None})"
   ]
  },
  {
   "cell_type": "code",
   "execution_count": null,
   "metadata": {},
   "outputs": [],
   "source": [
    "import pandas as pd\n",
    "\n",
    "maps_df = pd.DataFrame([{'id': m.id, 'size': m.number_of_children(), 'name': m.name} for m in maps]).set_index('id')\n",
    "maps_df"
   ]
  },
  {
   "cell_type": "markdown",
   "metadata": {},
   "source": [
    "### Pro/Con Statistics "
   ]
  },
  {
   "cell_type": "code",
   "execution_count": null,
   "metadata": {},
   "outputs": [],
   "source": [
    "node_type_stats = {None:[], 1:[], -1:[]}\n",
    "for m in maps:\n",
    "    for x in m.child_nodes:\n",
    "        node_type_stats[None].append(x)\n",
    "        node_type = x.type\n",
    "        node_type_stats[node_type].append(x)"
   ]
  },
  {
   "cell_type": "code",
   "execution_count": null,
   "metadata": {},
   "outputs": [],
   "source": [
    "{k:(len(v), len(v)/len(node_type_stats[None])) for k,v in node_type_stats.items()}"
   ]
  },
  {
   "cell_type": "markdown",
   "metadata": {},
   "source": [
    "## Analyse Node Results "
   ]
  },
  {
   "cell_type": "code",
   "execution_count": null,
   "metadata": {},
   "outputs": [],
   "source": [
    "import json\n",
    "all_nodes_results = json.loads((experiment_path / 'results/all/all_nodes.json').read_text())\n",
    "argument_maps_dict = {str(x.id):{n.id:n for n in x.all_nodes} for x in maps}"
   ]
  },
  {
   "cell_type": "code",
   "execution_count": null,
   "metadata": {},
   "outputs": [],
   "source": [
    "all_nodes_results['2223']['only_leafs_limited_types'][0]"
   ]
  },
  {
   "cell_type": "markdown",
   "metadata": {},
   "source": [
    "### Pro/Con"
   ]
  },
  {
   "cell_type": "code",
   "execution_count": null,
   "metadata": {},
   "outputs": [],
   "source": [
    "from collections import defaultdict\n",
    "node_type_results = {None:[], 1:[], -1:[]}\n",
    "maps_node_type_results = {None: defaultdict(list), 1:defaultdict(list), -1: defaultdict(list)}\n",
    "for map_id, v in all_nodes_results.items():\n",
    "    if v['only_leafs_limited_types']:\n",
    "        for x in v['only_leafs_limited_types']:\n",
    "            r = (x['rank'], x['id'])\n",
    "            node_type_results[None].append(r)\n",
    "            maps_node_type_results[None][map_id].append(r)\n",
    "            node_type = argument_maps_dict[map_id][x['id']].type\n",
    "            node_type_results[node_type].append(r)\n",
    "            maps_node_type_results[node_type][map_id].append(r)"
   ]
  },
  {
   "cell_type": "code",
   "execution_count": null,
   "metadata": {},
   "outputs": [],
   "source": [
    "# from evaluation import Evaluation\n",
    "# {k:Evaluation.precision_at_rank(v, 5) for k,v in node_type_results.items()}"
   ]
  },
  {
   "cell_type": "code",
   "execution_count": null,
   "metadata": {},
   "outputs": [],
   "source": [
    "import statistics\n",
    "def pak(l, k):\n",
    "    return statistics.mean(x[0]<=k for x in l)\n",
    "\n",
    "print(' & '.join([str(len(v)) for v in node_type_results.values()]))\n",
    "print(' & '.join([f'{statistics.mean(pak(l, 5) for l in v.values()):.2f}' for k,v in maps_node_type_results.items()]))\n",
    "print(' & '.join([f'{pak(v, 5):.2f}' for k,v in node_type_results.items()]))"
   ]
  },
  {
   "cell_type": "markdown",
   "metadata": {},
   "source": [
    "## Annotated Samples Results"
   ]
  },
  {
   "cell_type": "code",
   "execution_count": null,
   "metadata": {},
   "outputs": [],
   "source": [
    "import json\n",
    "all_samples_results = json.loads((experiment_path / 'results/annotated_samples_predictions.json').read_text())\n",
    "all_samples_results['17763.90']"
   ]
  },
  {
   "cell_type": "markdown",
   "metadata": {},
   "source": [
    "### Pro/Con"
   ]
  },
  {
   "cell_type": "code",
   "execution_count": null,
   "metadata": {},
   "outputs": [],
   "source": [
    "from collections import defaultdict\n",
    "node_type_sample_results = {None:[], 1:[], -1:[]}\n",
    "for idx, v in all_samples_results.items():\n",
    "    r = (v['rank'], idx)\n",
    "    node_type_sample_results[None].append(r)\n",
    "    node_type_sample_results[v['nodeType']].append(r)"
   ]
  },
  {
   "cell_type": "code",
   "execution_count": null,
   "metadata": {},
   "outputs": [],
   "source": [
    "print(' & '.join([str(k) for k,v in node_type_results.items()]), end=' & ')\n",
    "print(' & '.join([str(k) for k,v in maps_node_type_results.items()]))\n",
    "\n",
    "print(' & '.join([str(len(v)) for v in node_type_results.values()]), end=' & ')\n",
    "print(' & '.join([str(len(v)) for v in node_type_sample_results.values()]))\n",
    "print(' \\t '.join([f'{statistics.mean(pak(l, 5) for l in v.values()):.4f}' for k,v in maps_node_type_results.items()]), end=' \\t ')\n",
    "print(' \\t '.join([f'{pak(v, 5):.3f}' for k,v in node_type_sample_results.items()]))"
   ]
  }
 ],
 "metadata": {
  "kernelspec": {
   "display_name": "Python 3",
   "language": "python",
   "name": "python3"
  },
  "language_info": {
   "codemirror_mode": {
    "name": "ipython",
    "version": 3
   },
   "file_extension": ".py",
   "mimetype": "text/x-python",
   "name": "python",
   "nbconvert_exporter": "python",
   "pygments_lexer": "ipython3",
   "version": "3.9.2"
  }
 },
 "nbformat": 4,
 "nbformat_minor": 4
}
