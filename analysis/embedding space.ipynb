{
 "cells": [
  {
   "cell_type": "code",
   "execution_count": null,
   "metadata": {},
   "outputs": [],
   "source": [
    "%run base.ipynb"
   ]
  },
  {
   "cell_type": "code",
   "execution_count": null,
   "metadata": {},
   "outputs": [],
   "source": [
    "experiment = 'all-mpnet-baseline'\n",
    "experiment = 'all-mpnet-mulneg'\n",
    "experiment = 'all-mpnet-mulneg-beginning'\n",
    "\n",
    "\n",
    "results_path = get_results_path(experiment)"
   ]
  },
  {
   "cell_type": "code",
   "execution_count": null,
   "metadata": {},
   "outputs": [],
   "source": [
    "from kialo_util import read_maps\n",
    "maps = read_maps(results_path / 'all/all_maps_embedding.pkl')\n",
    "samples = read_maps(results_path / 'annotated_samples_embeddings.pkl')\n",
    "# maps = read_maps(Path('/home/ij/Downloads/Code/deliberatorium/results/results/annotated_samples_embeddings.pkl'))"
   ]
  },
  {
   "cell_type": "markdown",
   "metadata": {},
   "source": [
    "## Distance between parent/child based on level "
   ]
  },
  {
   "cell_type": "code",
   "execution_count": null,
   "metadata": {},
   "outputs": [],
   "source": [
    "from numpy import dot\n",
    "assert 'beginning' in experiment\n",
    "maps_embeddings = [[{'child': x.embedding, 'parent': x.extra_embeddings['parent'], \n",
    "                     'level': x.get_level(), \n",
    "                     'cosine': dot(x.embedding, x.extra_embeddings['parent'])} for x in m.all_children] for m in maps]\n",
    "levels, cosine = [x['level'] for m in maps_embeddings for x in m], [x['cosine'] for m in maps_embeddings for x in m]"
   ]
  },
  {
   "cell_type": "code",
   "execution_count": null,
   "metadata": {},
   "outputs": [],
   "source": [
    "t = 7\n",
    "import seaborn as sns\n",
    "import matplotlib.pyplot as plt\n",
    "fig = plt.figure(figsize=(8, 6)) \n",
    "sns.lineplot([x if x<t else t for x in levels], cosine, )\n",
    "plt.xlabel('level', fontsize=16)\n",
    "plt.ylabel('cosine similarity',fontsize=18)\n",
    "fig.savefig(f'output/{experiment}-same-node-cosine.pdf', format='pdf')"
   ]
  },
  {
   "cell_type": "code",
   "execution_count": null,
   "metadata": {},
   "outputs": [],
   "source": [
    "import pandas as pd\n",
    "df = pd.DataFrame({'level': levels, 'cosine': cosine})\n",
    "df.groupby('level').agg(['mean', 'count'])"
   ]
  },
  {
   "cell_type": "code",
   "execution_count": null,
   "metadata": {},
   "outputs": [],
   "source": [
    "for x in range(8):\n",
    "    print(x, df[df['level']==x]['cosine'].mean(), df[df['level']>x]['cosine'].mean())"
   ]
  },
  {
   "cell_type": "markdown",
   "metadata": {},
   "source": [
    "## Distance between c -> p vs p -> c"
   ]
  },
  {
   "cell_type": "code",
   "execution_count": null,
   "metadata": {},
   "outputs": [],
   "source": [
    "import statistics\n",
    "actual_parent_cosine = [dot(x.embedding, x.parent.extra_embeddings['parent'] if 'beginning' in experiment else x.parent.embedding) for m in maps for x in m.all_children if x.parent]\n",
    "inverse_parent_cosine = [dot(x.extra_embeddings['parent'], x.parent.embedding if 'beginning' in experiment else x.parent.embedding) for m in maps for x in m.all_children if x.parent]\n",
    "len(actual_parent_cosine), statistics.mean(actual_parent_cosine), statistics.mean(inverse_parent_cosine)"
   ]
  },
  {
   "cell_type": "markdown",
   "metadata": {},
   "source": [
    "## Distance between all nodes in a map"
   ]
  },
  {
   "cell_type": "code",
   "execution_count": null,
   "metadata": {},
   "outputs": [],
   "source": [
    "import statistics\n",
    "import numpy as np\n",
    "embeddings_similarity_all, extra_embeddings_similarity_all, mixed_embeddings_similarity_all= [], [], []\n",
    "for m in maps:\n",
    "    embeddings = [x.embedding for x in m.all_children]\n",
    "    embeddings_similarity = dot(embeddings, np.transpose(embeddings))\n",
    "    embeddings_similarity_all.append(embeddings_similarity.mean())\n",
    "    if 'beginning' in experiment:\n",
    "        extra_embeddings = [x.extra_embeddings['parent'] for m in maps for x in m.all_children]\n",
    "        extra_embeddings_similarity = dot(extra_embeddings, np.transpose(extra_embeddings))\n",
    "        extra_embeddings_similarity_all.append(extra_embeddings_similarity.mean())\n",
    "        mixed_embeddings_similarity = dot(embeddings, np.transpose(extra_embeddings))\n",
    "        mixed_embeddings_similarity_all.append(mixed_embeddings_similarity.mean())\n",
    "        \n",
    "print(experiment, statistics.mean(embeddings_similarity_all))\n",
    "if 'beginning' in experiment:\n",
    "    print(statistics.mean(mixed_embeddings_similarity_all))\n",
    "    print(statistics.mean(extra_embeddings_similarity_all))"
   ]
  },
  {
   "cell_type": "code",
   "execution_count": null,
   "metadata": {},
   "outputs": [],
   "source": [
    "[len(x) for x in [embeddings_similarity_all, extra_embeddings_similarity_all, mixed_embeddings_similarity_all]]"
   ]
  },
  {
   "cell_type": "code",
   "execution_count": null,
   "metadata": {},
   "outputs": [],
   "source": [
    "len(maps)"
   ]
  },
  {
   "cell_type": "markdown",
   "metadata": {},
   "source": [
    "## Distance between all nodes in all maps"
   ]
  },
  {
   "cell_type": "code",
   "execution_count": null,
   "metadata": {},
   "outputs": [],
   "source": [
    "import numpy as np\n",
    "embeddings = [x.embedding for m in maps for x in m.all_children]\n",
    "embeddings_similarity = dot(embeddings, np.transpose(embeddings))\n",
    "print(experiment, embeddings_similarity.mean())\n",
    "if 'beginning' in experiment:\n",
    "    extra_embeddings = [x.extra_embeddings['parent'] for m in maps for x in m.all_children]\n",
    "    extra_embeddings_similarity = dot(embeddings, np.transpose(extra_embeddings))\n",
    "    print(extra_embeddings_similarity.mean())\n",
    "    extra_embeddings_similarity = dot(extra_embeddings, np.transpose(extra_embeddings))\n",
    "    print(extra_embeddings_similarity.mean())"
   ]
  },
  {
   "cell_type": "markdown",
   "metadata": {},
   "source": [
    "## Visualize Embeddings "
   ]
  },
  {
   "cell_type": "code",
   "execution_count": null,
   "metadata": {},
   "outputs": [],
   "source": [
    "from sklearn.manifold import TSNE\n",
    "import matplotlib.pyplot as plt\n",
    "import numpy as np\n",
    "%matplotlib inline\n",
    "\n",
    "def tsne_plot(embeddings, labels, weights, output=None, extra_embeddings=None, extra_weights=None,):    \n",
    "#     tsne_model = TSNE(perplexity=40, n_components=2, init='pca', n_iter=500, random_state=42)\n",
    "#     tsne_model = TSNE(perplexity=250*(2 if extra_embeddings else 1), n_components=2, init='pca', n_iter=1000, random_state=42)\n",
    "    tsne_model = TSNE(perplexity=500, n_components=2, init='pca', n_iter=1000, random_state=42)\n",
    "    emb2d = tsne_model.fit_transform(embeddings if not extra_embeddings else embeddings+extra_embeddings)\n",
    "        \n",
    "    fig = plt.figure(figsize=(10, 10)) \n",
    "    x, y = emb2d[:,0],emb2d[:,1]\n",
    "    if not extra_embeddings:\n",
    "        g = plt.scatter(x, y, c=weights, cmap='Blues', vmin=0, alpha=0.5)\n",
    "    else:\n",
    "        plt.scatter(x[len(embeddings):], y[len(embeddings):], c=extra_weights, cmap='Oranges', vmin=0, alpha=0.5)\n",
    "        plt.scatter(x[:len(embeddings)], y[:len(embeddings)], c=weights, cmap='Blues', vmin=0, alpha=0.5)\n",
    "#         plt.colorbar()\n",
    "#         plt.show()\n",
    "#         plt.figure(figsize=(10, 10)) \n",
    "    \n",
    "    if len(labels) < 100:\n",
    "        for i in range(len(x)):\n",
    "            plt.annotate(labels[i][:100],\n",
    "                         xy=(x[i], y[i]),\n",
    "                         xytext=(5, 2),\n",
    "                         textcoords='offset points',\n",
    "                         ha='right',\n",
    "                         va='bottom')\n",
    "            \n",
    "#     plt.colorbar()\n",
    "\n",
    "    fig.savefig(f'output/{experiment}-{output if output else \"\"}.pdf', format='pdf')\n",
    "    \n",
    "    plt.show()"
   ]
  },
  {
   "cell_type": "code",
   "execution_count": null,
   "metadata": {},
   "outputs": [],
   "source": [
    "sample = list(samples.values())[0]\n",
    "tsne_plot(np.vstack([sample['candidates_embedding'], sample['embedding']]), \n",
    "          [x['text'] for x in list(sample['candidates'].values())]+[sample['text']], ([1]*len(sample['candidates'])+[5]), output='samples')\n",
    "print(sample['text'])\n",
    "print(sample['candidates'][sample['parent ID']]['text'])"
   ]
  },
  {
   "cell_type": "code",
   "execution_count": null,
   "metadata": {},
   "outputs": [],
   "source": [
    "# np.array([x.embedding for x in maps[0].all_children]).shape\n",
    "# tsne_plot([x.embedding for x in maps[0].all_children], [x.get_level() for x in maps[0].all_children])\n",
    "if not 'beginning' in experiment:\n",
    "    tsne_plot([x.embedding for x in maps[0].all_children], [x.name for x in maps[0].all_children], [10-x.get_level() for x in maps[0].all_children], output='map')\n",
    "else:\n",
    "    tsne_plot([x.embedding for x in maps[0].all_children], \n",
    "              [x.name for x in maps[0].all_children], \n",
    "              [10-x.get_level() for x in maps[0].all_children],\n",
    "              extra_embeddings=[x.extra_embeddings['parent'] for x in maps[0].all_children],\n",
    "              extra_weights=[10-x.get_level() for x in maps[0].all_children],\n",
    "              output='map'\n",
    "         )"
   ]
  }
 ],
 "metadata": {
  "kernelspec": {
   "display_name": "Python 3",
   "language": "python",
   "name": "python3"
  },
  "language_info": {
   "codemirror_mode": {
    "name": "ipython",
    "version": 3
   },
   "file_extension": ".py",
   "mimetype": "text/x-python",
   "name": "python",
   "nbconvert_exporter": "python",
   "pygments_lexer": "ipython3",
   "version": "3.9.2"
  }
 },
 "nbformat": 4,
 "nbformat_minor": 4
}
