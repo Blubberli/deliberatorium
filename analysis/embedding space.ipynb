{
 "cells": [
  {
   "cell_type": "code",
   "execution_count": null,
   "metadata": {},
   "outputs": [],
   "source": [
    "%run base.ipynb"
   ]
  },
  {
   "cell_type": "code",
   "execution_count": null,
   "metadata": {},
   "outputs": [],
   "source": [
    "experiment = 'all-mpnet-baseline'\n",
    "experiment = 'all-mpnet-mulneg'\n",
    "# experiment = 'all-mpnet-mulneg-beginning'\n",
    "\n",
    "\n",
    "results_path = get_results_path(experiment)"
   ]
  },
  {
   "cell_type": "code",
   "execution_count": null,
   "metadata": {},
   "outputs": [],
   "source": [
    "from kialo_util import read_maps\n",
    "maps = read_maps(results_path / 'all/all_maps_embedding.pkl')\n",
    "samples = read_maps(results_path / 'annotated_samples_embeddings.pkl')\n",
    "# maps = read_maps(Path('/home/ij/Downloads/Code/deliberatorium/results/results/annotated_samples_embeddings.pkl'))"
   ]
  },
  {
   "cell_type": "code",
   "execution_count": null,
   "metadata": {},
   "outputs": [],
   "source": [
    "from sklearn.manifold import TSNE\n",
    "import matplotlib.pyplot as plt\n",
    "import numpy as np\n",
    "%matplotlib inline\n",
    "\n",
    "def tsne_plot(embeddings, labels, weights, output=None, extra_embeddings=None, extra_weights=None,):    \n",
    "#     tsne_model = TSNE(perplexity=40, n_components=2, init='pca', n_iter=500, random_state=42)\n",
    "#     tsne_model = TSNE(perplexity=250*(2 if extra_embeddings else 1), n_components=2, init='pca', n_iter=1000, random_state=42)\n",
    "    tsne_model = TSNE(perplexity=500, n_components=2, init='pca', n_iter=1000, random_state=42)\n",
    "    emb2d = tsne_model.fit_transform(embeddings if not extra_embeddings else embeddings+extra_embeddings)\n",
    "        \n",
    "    fig = plt.figure(figsize=(10, 10)) \n",
    "    x, y = emb2d[:,0],emb2d[:,1]\n",
    "    if not extra_embeddings:\n",
    "        g = plt.scatter(x, y, c=weights, cmap='Blues', vmin=0, alpha=0.5)\n",
    "    else:\n",
    "        plt.scatter(x[len(embeddings):], y[len(embeddings):], c=extra_weights, cmap='Oranges', vmin=0, alpha=0.5)\n",
    "        plt.scatter(x[:len(embeddings)], y[:len(embeddings)], c=weights, cmap='Blues', vmin=0, alpha=0.5)\n",
    "#         plt.colorbar()\n",
    "#         plt.show()\n",
    "#         plt.figure(figsize=(10, 10)) \n",
    "    \n",
    "    if len(labels) < 100:\n",
    "        for i in range(len(x)):\n",
    "            plt.annotate(labels[i][:100],\n",
    "                         xy=(x[i], y[i]),\n",
    "                         xytext=(5, 2),\n",
    "                         textcoords='offset points',\n",
    "                         ha='right',\n",
    "                         va='bottom')\n",
    "            \n",
    "#     plt.colorbar()\n",
    "\n",
    "    fig.savefig(f'output/{experiment}-{output if output else \"\"}.pdf', format='pdf')\n",
    "    \n",
    "    plt.show()"
   ]
  },
  {
   "cell_type": "code",
   "execution_count": null,
   "metadata": {},
   "outputs": [],
   "source": [
    "sample = list(samples.values())[0]\n",
    "tsne_plot(np.vstack([sample['candidates_embedding'], sample['embedding']]), \n",
    "          [x['text'] for x in list(sample['candidates'].values())]+[sample['text']], ([1]*len(sample['candidates'])+[5]), output='samples')\n",
    "print(sample['text'])\n",
    "print(sample['candidates'][sample['parent ID']]['text'])"
   ]
  },
  {
   "cell_type": "code",
   "execution_count": null,
   "metadata": {},
   "outputs": [],
   "source": [
    "# np.array([x.embedding for x in maps[0].all_children]).shape\n",
    "# tsne_plot([x.embedding for x in maps[0].all_children], [x.get_level() for x in maps[0].all_children])\n",
    "if not 'beginning' in experiment:\n",
    "    tsne_plot([x.embedding for x in maps[0].all_children], [x.name for x in maps[0].all_children], [10-x.get_level() for x in maps[0].all_children], output='map')\n",
    "else:\n",
    "    tsne_plot([x.embedding for x in maps[0].all_children], \n",
    "              [x.name for x in maps[0].all_children], \n",
    "              [10-x.get_level() for x in maps[0].all_children],\n",
    "              extra_embeddings=[x.extra_embeddings['parent'] for x in maps[0].all_children],\n",
    "              extra_weights=[10-x.get_level() for x in maps[0].all_children],\n",
    "              output='map'\n",
    "         )"
   ]
  }
 ],
 "metadata": {
  "kernelspec": {
   "display_name": "Python 3",
   "language": "python",
   "name": "python3"
  },
  "language_info": {
   "codemirror_mode": {
    "name": "ipython",
    "version": 3
   },
   "file_extension": ".py",
   "mimetype": "text/x-python",
   "name": "python",
   "nbconvert_exporter": "python",
   "pygments_lexer": "ipython3",
   "version": "3.9.2"
  }
 },
 "nbformat": 4,
 "nbformat_minor": 4
}
