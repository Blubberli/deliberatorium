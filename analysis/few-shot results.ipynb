{
 "cells": [
  {
   "cell_type": "code",
   "execution_count": null,
   "metadata": {},
   "outputs": [],
   "source": [
    "%run base.ipynb"
   ]
  },
  {
   "cell_type": "code",
   "execution_count": null,
   "metadata": {},
   "outputs": [],
   "source": [
    "experiment = 'few-shot-seeds-mulneg'\n",
    "experiment = 'more-few-shot-seeds'\n",
    "# experiment = 'more-batch64-few-shot-seeds'\n",
    "experiment = 'more-epochs-few-shot-seeds'\n",
    "\n",
    "with_samples = False\n",
    "# with_samples = True\n",
    "\n",
    "results_path = get_experiment_path(experiment)"
   ]
  },
  {
   "cell_type": "code",
   "execution_count": null,
   "metadata": {},
   "outputs": [],
   "source": [
    "results_path"
   ]
  },
  {
   "cell_type": "code",
   "execution_count": null,
   "metadata": {},
   "outputs": [],
   "source": [
    "model = 'all-mpnet'\n",
    "# model = 'all-mini'\n",
    "extra = ''\n",
    "extra = 'epoch2'\n",
    "# extra = 'epoch3'"
   ]
  },
  {
   "cell_type": "code",
   "execution_count": null,
   "metadata": {},
   "outputs": [],
   "source": [
    "import pandas as pd\n",
    "pd.options.display.max_rows = None"
   ]
  },
  {
   "cell_type": "code",
   "execution_count": null,
   "metadata": {},
   "outputs": [],
   "source": [
    "import pandas as pd\n",
    "import numpy as np\n",
    "import re\n",
    "from tqdm import tqdm\n",
    "\n",
    "def format_f(x):\n",
    "    return re.sub('^0\\.', '.', f'{x:.4f}')\n",
    "\n",
    "def read_results(name, templates=[]):\n",
    "    paths = list(results_path.glob(f'{model}*{extra}*/results/{name}.json'))\n",
    "    dfs = []\n",
    "    for path in tqdm(paths):\n",
    "#         print(path)\n",
    "        df = pd.read_json(path, orient='index')\n",
    "        if len(df.columns) == 1:\n",
    "            df = pd.DataFrame([df.to_dict()[0]], columns=df.to_dict()[0].keys())\n",
    "#         print(df)\n",
    "#         df[['model','template','per_map_size', 'map_size', 'seed']] = re.findall(r'([a-zA-Z]+-[a-zA-Z]+)-([a-zA-Z_]*)-n(\\d+)in(\\d+).*seed(\\d+)', str(path))\n",
    "        df[['template','per_map_size', 'map_size', 'seed']] = re.findall(f'-([a-zA-Z_]*){\"*.\" if \"epoch\" in extra else \"\"}-n(\\d+)in(\\d+).*seed(\\d+)', str(path))\n",
    "        df[['per_map_size', 'map_size', 'seed']] = df[['per_map_size', 'map_size', 'seed']].apply(lambda x: int(x))\n",
    "\n",
    "#         display(df)\n",
    "        dfs.append(df)\n",
    "    df = pd.concat(dfs, ignore_index=True)\n",
    "    df.loc[df['template']=='mulneg', 'template']='none'\n",
    "    df.loc[df['template']=='', 'template']='none'\n",
    "    ordered_templates = ['none', 'beginning', 'foo', 'pro_con', 'combined', 'all']\n",
    "#     df = df.sort_values(by=['template'], key=lambda x: x.map({k:v for k,v in zip(ordered_templates, list(range(len(ordered_templates))))}))\n",
    "#     display(df)\n",
    "    df = pd.pivot_table(df, index=['per_map_size', 'map_size','template'], values=['p1', 'p5', 'mrr'],\n",
    "                                aggfunc=[np.mean, np.std, np.count_nonzero], dropna=False)\n",
    "    df = df[df['count_nonzero']['p1']==5]\n",
    "    # display(df)\n",
    "\n",
    "    formatter = lambda x: (x[0] if type(x[0])==str else format_f(x[0])+(f'\\u00B1{format_f(x[1])}' if not pd.isna(x[1]) else '').replace('%',''))\n",
    "    f_df = pd.DataFrame({col: zip(df['mean'][col], df['std'][col]) for col in df['mean'].columns})\n",
    "    f_df.index = df.index\n",
    "    f_df = f_df.applymap(formatter)\n",
    "    \n",
    "    f_df = f_df[['p1', 'p5', 'mrr']]\n",
    "#     f_df.reset_index(level=0, inplace=True)\n",
    "#     f_df.columns = f_df.columns.droplevel(2)\n",
    "    \n",
    "    if not 'epoch' in extra:\n",
    "        f_df = f_df.reindex(ordered_templates, level=2)\n",
    "    \n",
    "    return f_df"
   ]
  },
  {
   "cell_type": "markdown",
   "metadata": {},
   "source": [
    "## with/without samples results"
   ]
  },
  {
   "cell_type": "code",
   "execution_count": null,
   "metadata": {},
   "outputs": [],
   "source": [
    "if with_samples:\n",
    "    df = pd.concat([read_results('avg'), read_results('annotated_samples_metrics')], keys=['test', 'samples'], axis=1)\n",
    "    # df.columns = results_df.columns.droplevel(0)\n",
    "    # df.reset_index(level=0)\n",
    "else:\n",
    "    df = read_results('avg')"
   ]
  },
  {
   "cell_type": "code",
   "execution_count": null,
   "metadata": {},
   "outputs": [],
   "source": [
    "def to_latex(df):\n",
    "#     df = df.reset_index(level=0)\n",
    "#     df = df.reset_index(level=0)\n",
    "#     display(df)\n",
    "    \n",
    "#     df['per_map_size x map_size'] = df.apply(lambda x: f\"{x['per_map_size']} x {x['map_size']}\", axis=1)\n",
    "#     df = df.drop(['per_map_size', 'map_size'], axis=1)\n",
    "    return (df\n",
    "            .applymap(lambda x: '$'+'_{\\pm'.join(x.split('\\u00B1'))+'}$' if '\\u00B1' in x else x)            \n",
    "#             .style.highlight_max().to_latex(escape=False)\n",
    "            .to_latex(escape=False)\n",
    "            .replace('per_map_size', '\\#nodes').replace('map_size', '\\#maps'))"
   ]
  },
  {
   "cell_type": "markdown",
   "metadata": {},
   "source": [
    "## Main Few-shot Results "
   ]
  },
  {
   "cell_type": "code",
   "execution_count": null,
   "metadata": {},
   "outputs": [],
   "source": [
    "import itertools\n",
    "sizes = [8, 16, 32, 64]\n",
    "\n",
    "summary_df = df.query(\"template in ['none', 'beginning', 'pro_con', 'all']\")\n",
    "summary_df = pd.concat([summary_df.query(f'per_map_size == {x} and map_size == {x}') for x in sizes])\n",
    "summary_df"
   ]
  },
  {
   "cell_type": "code",
   "execution_count": null,
   "metadata": {},
   "outputs": [],
   "source": [
    "print(to_latex(summary_df).replace('beginning', 'parent/child').replace('pro_con', 'pro/con'))"
   ]
  },
  {
   "cell_type": "markdown",
   "metadata": {},
   "source": [
    "## Foobar"
   ]
  },
  {
   "cell_type": "code",
   "execution_count": null,
   "metadata": {},
   "outputs": [],
   "source": [
    "foo_df = df.query(\"template in ['beginning', 'foo']\")\n",
    "foo_df = pd.concat([foo_df.query(f'per_map_size == {x} and map_size == {x}') for x in sizes])\n",
    "foo_df"
   ]
  },
  {
   "cell_type": "code",
   "execution_count": null,
   "metadata": {},
   "outputs": [],
   "source": [
    "print(to_latex(foo_df).replace('beginning', 'parent/child').replace('foo', 'foo/bar'))"
   ]
  },
  {
   "cell_type": "markdown",
   "metadata": {},
   "source": [
    "## #nodes vs #maps "
   ]
  },
  {
   "cell_type": "code",
   "execution_count": null,
   "metadata": {},
   "outputs": [],
   "source": [
    "ordered_related_sizes = list(dict.fromkeys(itertools.chain.from_iterable([(x, y), (y, x)] for x, y in itertools.product(sizes, sizes) if x != y)))\n",
    "related_df = df.query(\"template == 'none'\")\n",
    "related_df = pd.concat([related_df.query(f'per_map_size == {x} and map_size == {y}') for x, y in ordered_related_sizes])\n",
    "related_df"
   ]
  },
  {
   "cell_type": "code",
   "execution_count": null,
   "metadata": {},
   "outputs": [],
   "source": [
    "print(to_latex(related_df.reset_index(level=2, drop=True)))"
   ]
  }
 ],
 "metadata": {
  "kernelspec": {
   "display_name": "Python 3",
   "language": "python",
   "name": "python3"
  },
  "language_info": {
   "codemirror_mode": {
    "name": "ipython",
    "version": 3
   },
   "file_extension": ".py",
   "mimetype": "text/x-python",
   "name": "python",
   "nbconvert_exporter": "python",
   "pygments_lexer": "ipython3",
   "version": "3.9.2"
  }
 },
 "nbformat": 4,
 "nbformat_minor": 4
}
