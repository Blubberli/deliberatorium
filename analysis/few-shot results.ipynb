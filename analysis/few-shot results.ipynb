{
 "cells": [
  {
   "cell_type": "code",
   "execution_count": 1,
   "metadata": {},
   "outputs": [],
   "source": [
    "%run base.ipynb"
   ]
  },
  {
   "cell_type": "code",
   "execution_count": 2,
   "metadata": {},
   "outputs": [],
   "source": [
    "experiment = 'few-shot-seeds-mulneg'\n",
    "\n",
    "\n",
    "results_path = get_experiment_path(experiment)"
   ]
  },
  {
   "cell_type": "code",
   "execution_count": 3,
   "metadata": {},
   "outputs": [
    {
     "data": {
      "text/plain": [
       "PosixPath('/home/ij/data/delib-results/results/few-shot-seeds-mulneg')"
      ]
     },
     "execution_count": 3,
     "metadata": {},
     "output_type": "execute_result"
    }
   ],
   "source": [
    "results_path"
   ]
  },
  {
   "cell_type": "code",
   "execution_count": 4,
   "metadata": {},
   "outputs": [],
   "source": [
    "import pandas as pd\n",
    "import numpy as np\n",
    "import re\n",
    "\n",
    "def read_results(name):\n",
    "    paths = list(results_path.glob(f'*/results/{name}.json'))\n",
    "    dfs = []\n",
    "    for path in paths:\n",
    "    #     print(path)\n",
    "        df = pd.read_json(path, orient='index')\n",
    "        if len(df.columns) == 1:\n",
    "            df = pd.DataFrame([df.to_dict()[0]], columns=df.to_dict()[0].keys())\n",
    "#         print(df)\n",
    "        df[['template','per_map_size', 'map_size', 'seed']] = re.findall(r'-([a-zA-Z_]*)-n(\\d+)in(\\d+).*seed(\\d+)', str(path))\n",
    "        df[['per_map_size', 'map_size', 'seed']] = df[['per_map_size', 'map_size', 'seed']].apply(lambda x: int(x))\n",
    "\n",
    "#         display(df)\n",
    "        dfs.append(df)\n",
    "    df = pd.concat(dfs, ignore_index=True)\n",
    "    df.loc[df['template']=='mulneg', 'template']=''\n",
    "    # display(df)\n",
    "    df = pd.pivot_table(df, index=['per_map_size', 'map_size','template'], values=['p1', 'p5', 'mrr'],\n",
    "                                aggfunc=[np.mean, np.std, np.count_nonzero], dropna=False)\n",
    "    df = df[df['count_nonzero']['p1']==5]\n",
    "    # display(df)\n",
    "\n",
    "    formatter = lambda x: re.sub('^0\\.', '.', (x[0] if type(x[0])==str else f'{x[0]:.4f}'+(f'\\u00B1{x[1]:.4f}' if not pd.isna(x[1]) else '')).replace('%',''))\n",
    "    f_df = pd.DataFrame({col: zip(df['mean'][col], df['std'][col]) for col in df['mean'].columns})\n",
    "    f_df.index = df.index\n",
    "    f_df = f_df.applymap(formatter)\n",
    "    \n",
    "    f_df = f_df[['p1', 'p5', 'mrr']]\n",
    "#     f_df.reset_index(level=0, inplace=True)\n",
    "#     f_df.columns = f_df.columns.droplevel(2)\n",
    "    return f_df"
   ]
  },
  {
   "cell_type": "code",
   "execution_count": 5,
   "metadata": {},
   "outputs": [
    {
     "data": {
      "text/html": [
       "<div>\n",
       "<style scoped>\n",
       "    .dataframe tbody tr th:only-of-type {\n",
       "        vertical-align: middle;\n",
       "    }\n",
       "\n",
       "    .dataframe tbody tr th {\n",
       "        vertical-align: top;\n",
       "    }\n",
       "\n",
       "    .dataframe thead tr th {\n",
       "        text-align: left;\n",
       "    }\n",
       "\n",
       "    .dataframe thead tr:last-of-type th {\n",
       "        text-align: right;\n",
       "    }\n",
       "</style>\n",
       "<table border=\"1\" class=\"dataframe\">\n",
       "  <thead>\n",
       "    <tr>\n",
       "      <th></th>\n",
       "      <th></th>\n",
       "      <th></th>\n",
       "      <th colspan=\"3\" halign=\"left\">test</th>\n",
       "      <th colspan=\"3\" halign=\"left\">samples</th>\n",
       "    </tr>\n",
       "    <tr>\n",
       "      <th></th>\n",
       "      <th></th>\n",
       "      <th></th>\n",
       "      <th>p1</th>\n",
       "      <th>p5</th>\n",
       "      <th>mrr</th>\n",
       "      <th>p1</th>\n",
       "      <th>p5</th>\n",
       "      <th>mrr</th>\n",
       "    </tr>\n",
       "    <tr>\n",
       "      <th>per_map_size</th>\n",
       "      <th>map_size</th>\n",
       "      <th>template</th>\n",
       "      <th></th>\n",
       "      <th></th>\n",
       "      <th></th>\n",
       "      <th></th>\n",
       "      <th></th>\n",
       "      <th></th>\n",
       "    </tr>\n",
       "  </thead>\n",
       "  <tbody>\n",
       "    <tr>\n",
       "      <th rowspan=\"6\" valign=\"top\">8</th>\n",
       "      <th rowspan=\"3\" valign=\"top\">8</th>\n",
       "      <th></th>\n",
       "      <td>.2540±0.0034</td>\n",
       "      <td>.5539±0.0040</td>\n",
       "      <td>.3947±0.0033</td>\n",
       "      <td>.4380±0.0125</td>\n",
       "      <td>.9100±0.0035</td>\n",
       "      <td>.6350±0.0072</td>\n",
       "    </tr>\n",
       "    <tr>\n",
       "      <th>beginning</th>\n",
       "      <td>.2613±0.0044</td>\n",
       "      <td>.5547±0.0054</td>\n",
       "      <td>.3998±0.0051</td>\n",
       "      <td>.4430±0.0091</td>\n",
       "      <td>.9110±0.0074</td>\n",
       "      <td>.6306±0.0065</td>\n",
       "    </tr>\n",
       "    <tr>\n",
       "      <th>pro_con</th>\n",
       "      <td>.2700±0.0065</td>\n",
       "      <td>.5680±0.0081</td>\n",
       "      <td>.4093±0.0074</td>\n",
       "      <td>.4430±0.0168</td>\n",
       "      <td>.9100±0.0141</td>\n",
       "      <td>.6322±0.0112</td>\n",
       "    </tr>\n",
       "    <tr>\n",
       "      <th rowspan=\"3\" valign=\"top\">64</th>\n",
       "      <th></th>\n",
       "      <td>.2733±0.0037</td>\n",
       "      <td>.5763±0.0052</td>\n",
       "      <td>.4142±0.0042</td>\n",
       "      <td>.4510±0.0134</td>\n",
       "      <td>.9160±0.0129</td>\n",
       "      <td>.6482±0.0064</td>\n",
       "    </tr>\n",
       "    <tr>\n",
       "      <th>beginning</th>\n",
       "      <td>.2805±0.0016</td>\n",
       "      <td>.5835±0.0027</td>\n",
       "      <td>.4229±0.0019</td>\n",
       "      <td>.4760±0.0074</td>\n",
       "      <td>.9240±0.0082</td>\n",
       "      <td>.6603±0.0038</td>\n",
       "    </tr>\n",
       "    <tr>\n",
       "      <th>pro_con</th>\n",
       "      <td>.2834±0.0035</td>\n",
       "      <td>.5906±0.0050</td>\n",
       "      <td>.4261±0.0036</td>\n",
       "      <td>.4880±0.0115</td>\n",
       "      <td>.9240±0.0065</td>\n",
       "      <td>.6654±0.0076</td>\n",
       "    </tr>\n",
       "  </tbody>\n",
       "</table>\n",
       "</div>"
      ],
      "text/plain": [
       "                                         test                              \\\n",
       "                                           p1            p5           mrr   \n",
       "per_map_size map_size template                                              \n",
       "8            8                   .2540±0.0034  .5539±0.0040  .3947±0.0033   \n",
       "                      beginning  .2613±0.0044  .5547±0.0054  .3998±0.0051   \n",
       "                      pro_con    .2700±0.0065  .5680±0.0081  .4093±0.0074   \n",
       "             64                  .2733±0.0037  .5763±0.0052  .4142±0.0042   \n",
       "                      beginning  .2805±0.0016  .5835±0.0027  .4229±0.0019   \n",
       "                      pro_con    .2834±0.0035  .5906±0.0050  .4261±0.0036   \n",
       "\n",
       "                                      samples                              \n",
       "                                           p1            p5           mrr  \n",
       "per_map_size map_size template                                             \n",
       "8            8                   .4380±0.0125  .9100±0.0035  .6350±0.0072  \n",
       "                      beginning  .4430±0.0091  .9110±0.0074  .6306±0.0065  \n",
       "                      pro_con    .4430±0.0168  .9100±0.0141  .6322±0.0112  \n",
       "             64                  .4510±0.0134  .9160±0.0129  .6482±0.0064  \n",
       "                      beginning  .4760±0.0074  .9240±0.0082  .6603±0.0038  \n",
       "                      pro_con    .4880±0.0115  .9240±0.0065  .6654±0.0076  "
      ]
     },
     "execution_count": 5,
     "metadata": {},
     "output_type": "execute_result"
    }
   ],
   "source": [
    "results_df = pd.concat([read_results('avg'), read_results('annotated_samples_metrics')], keys=['test', 'samples'], axis=1)\n",
    "# results_df.columns = results_df.columns.droplevel(0)\n",
    "# results_df.reset_index(level=0)\n",
    "results_df"
   ]
  },
  {
   "cell_type": "code",
   "execution_count": 6,
   "metadata": {},
   "outputs": [
    {
     "name": "stdout",
     "output_type": "stream",
     "text": [
      "\\begin{tabular}{lllllllll}\n",
      "\\toprule\n",
      "  &    &         & \\multicolumn{3}{l}{test} & \\multicolumn{3}{l}{samples} \\\\\n",
      "  &    &         &            p1 &            p5 &           mrr &            p1 &            p5 &           mrr \\\\\n",
      "per\\_map\\_size & map\\_size & template &               &               &               &               &               &               \\\\\n",
      "\\midrule\n",
      "8 & 8  &         &  .2540±0.0034 &  .5539±0.0040 &  .3947±0.0033 &  .4380±0.0125 &  .9100±0.0035 &  .6350±0.0072 \\\\\n",
      "  &    & beginning &  .2613±0.0044 &  .5547±0.0054 &  .3998±0.0051 &  .4430±0.0091 &  .9110±0.0074 &  .6306±0.0065 \\\\\n",
      "  &    & pro\\_con &  .2700±0.0065 &  .5680±0.0081 &  .4093±0.0074 &  .4430±0.0168 &  .9100±0.0141 &  .6322±0.0112 \\\\\n",
      "  & 64 &         &  .2733±0.0037 &  .5763±0.0052 &  .4142±0.0042 &  .4510±0.0134 &  .9160±0.0129 &  .6482±0.0064 \\\\\n",
      "  &    & beginning &  .2805±0.0016 &  .5835±0.0027 &  .4229±0.0019 &  .4760±0.0074 &  .9240±0.0082 &  .6603±0.0038 \\\\\n",
      "  &    & pro\\_con &  .2834±0.0035 &  .5906±0.0050 &  .4261±0.0036 &  .4880±0.0115 &  .9240±0.0065 &  .6654±0.0076 \\\\\n",
      "\\bottomrule\n",
      "\\end{tabular}\n",
      "\n"
     ]
    }
   ],
   "source": [
    "print(results_df.to_latex())"
   ]
  }
 ],
 "metadata": {
  "kernelspec": {
   "display_name": "Python 3",
   "language": "python",
   "name": "python3"
  },
  "language_info": {
   "codemirror_mode": {
    "name": "ipython",
    "version": 3
   },
   "file_extension": ".py",
   "mimetype": "text/x-python",
   "name": "python",
   "nbconvert_exporter": "python",
   "pygments_lexer": "ipython3",
   "version": "3.9.2"
  }
 },
 "nbformat": 4,
 "nbformat_minor": 4
}
