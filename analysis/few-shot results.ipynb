{
 "cells": [
  {
   "cell_type": "code",
   "execution_count": null,
   "metadata": {},
   "outputs": [],
   "source": [
    "%run base.ipynb"
   ]
  },
  {
   "cell_type": "code",
   "execution_count": null,
   "metadata": {},
   "outputs": [],
   "source": [
    "experiment = 'few-shot-seeds-mulneg'\n",
    "experiment = 'more-few-shot-seeds'\n",
    "\n",
    "results_path = get_experiment_path(experiment)"
   ]
  },
  {
   "cell_type": "code",
   "execution_count": null,
   "metadata": {},
   "outputs": [],
   "source": [
    "results_path"
   ]
  },
  {
   "cell_type": "code",
   "execution_count": null,
   "metadata": {},
   "outputs": [],
   "source": [
    "model = 'all-mpnet'"
   ]
  },
  {
   "cell_type": "code",
   "execution_count": null,
   "metadata": {},
   "outputs": [],
   "source": [
    "pd.options.display.max_rows = None"
   ]
  },
  {
   "cell_type": "code",
   "execution_count": null,
   "metadata": {},
   "outputs": [],
   "source": [
    "import pandas as pd\n",
    "import numpy as np\n",
    "import re\n",
    "from tqdm import tqdm\n",
    "\n",
    "def format_f(x):\n",
    "    return re.sub('^0\\.', '.', f'{x:.4f}')\n",
    "\n",
    "def read_results(name, templates=[]):\n",
    "    paths = list(results_path.glob(f'{model}*/results/{name}.json'))\n",
    "    dfs = []\n",
    "    for path in tqdm(paths):\n",
    "#         print(path)\n",
    "        df = pd.read_json(path, orient='index')\n",
    "        if len(df.columns) == 1:\n",
    "            df = pd.DataFrame([df.to_dict()[0]], columns=df.to_dict()[0].keys())\n",
    "#         print(df)\n",
    "#         df[['model','template','per_map_size', 'map_size', 'seed']] = re.findall(r'([a-zA-Z]+-[a-zA-Z]+)-([a-zA-Z_]*)-n(\\d+)in(\\d+).*seed(\\d+)', str(path))\n",
    "        df[['template','per_map_size', 'map_size', 'seed']] = re.findall(r'-([a-zA-Z_]*)-n(\\d+)in(\\d+).*seed(\\d+)', str(path))\n",
    "        df[['per_map_size', 'map_size', 'seed']] = df[['per_map_size', 'map_size', 'seed']].apply(lambda x: int(x))\n",
    "\n",
    "#         display(df)\n",
    "        dfs.append(df)\n",
    "    df = pd.concat(dfs, ignore_index=True)\n",
    "    df.loc[df['template']=='mulneg', 'template']=''\n",
    "    ordered_templates = ['', 'beginning', 'foo', 'pro_con', 'combined', 'all']\n",
    "#     df = df.sort_values(by=['template'], key=lambda x: x.map({k:v for k,v in zip(ordered_templates, list(range(len(ordered_templates))))}))\n",
    "#     display(df)\n",
    "    df = pd.pivot_table(df, index=['per_map_size', 'map_size','template'], values=['p1', 'p5', 'mrr'],\n",
    "                                aggfunc=[np.mean, np.std, np.count_nonzero], dropna=False)\n",
    "    df = df[df['count_nonzero']['p1']==5]\n",
    "    # display(df)\n",
    "\n",
    "    formatter = lambda x: (x[0] if type(x[0])==str else format_f(x[0])+(f'\\u00B1{format_f(x[1])}' if not pd.isna(x[1]) else '').replace('%',''))\n",
    "    f_df = pd.DataFrame({col: zip(df['mean'][col], df['std'][col]) for col in df['mean'].columns})\n",
    "    f_df.index = df.index\n",
    "    f_df = f_df.applymap(formatter)\n",
    "    \n",
    "    f_df = f_df[['p1', 'p5', 'mrr']]\n",
    "#     f_df.reset_index(level=0, inplace=True)\n",
    "#     f_df.columns = f_df.columns.droplevel(2)\n",
    "\n",
    "    f_df = f_df.reindex(ordered_templates, level=2)\n",
    "    \n",
    "    return f_df"
   ]
  },
  {
   "cell_type": "markdown",
   "metadata": {},
   "source": [
    "## with samples results"
   ]
  },
  {
   "cell_type": "code",
   "execution_count": null,
   "metadata": {},
   "outputs": [],
   "source": [
    "# results_df = pd.concat([read_results('avg'), read_results('annotated_samples_metrics')], keys=['test', 'samples'], axis=1)\n",
    "# results_df.columns = results_df.columns.droplevel(0)\n",
    "# results_df.reset_index(level=0)"
   ]
  },
  {
   "cell_type": "markdown",
   "metadata": {},
   "source": [
    "## without samples results "
   ]
  },
  {
   "cell_type": "code",
   "execution_count": null,
   "metadata": {},
   "outputs": [],
   "source": [
    "results_df = read_results('avg')"
   ]
  },
  {
   "cell_type": "code",
   "execution_count": null,
   "metadata": {},
   "outputs": [],
   "source": [
    "summary_df = results_df.query(\"template in ['', 'beginning', 'all']\")\n",
    "summary_df"
   ]
  },
  {
   "cell_type": "code",
   "execution_count": null,
   "metadata": {},
   "outputs": [],
   "source": [
    "print(summary_df.to_latex())"
   ]
  }
 ],
 "metadata": {
  "kernelspec": {
   "display_name": "Python 3",
   "language": "python",
   "name": "python3"
  },
  "language_info": {
   "codemirror_mode": {
    "name": "ipython",
    "version": 3
   },
   "file_extension": ".py",
   "mimetype": "text/x-python",
   "name": "python",
   "nbconvert_exporter": "python",
   "pygments_lexer": "ipython3",
   "version": "3.9.2"
  }
 },
 "nbformat": 4,
 "nbformat_minor": 4
}
