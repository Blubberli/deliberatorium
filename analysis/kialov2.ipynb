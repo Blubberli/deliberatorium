{
 "cells": [
  {
   "cell_type": "code",
   "execution_count": null,
   "metadata": {},
   "outputs": [],
   "source": [
    "%load_ext autoreload\n",
    "%autoreload 2"
   ]
  },
  {
   "cell_type": "code",
   "execution_count": null,
   "metadata": {},
   "outputs": [],
   "source": [
    "import os\n",
    "import sys\n",
    "module_path = os.path.abspath(os.path.join('..'))\n",
    "if module_path not in sys.path:\n",
    "    sys.path.append(module_path)"
   ]
  },
  {
   "cell_type": "code",
   "execution_count": null,
   "metadata": {},
   "outputs": [],
   "source": [
    "from pathlib import Path\n",
    "len(list((Path.home() / 'data/e-delib/kialo/kialoV2').glob('**/*.pkl')))"
   ]
  },
  {
   "cell_type": "code",
   "execution_count": null,
   "metadata": {},
   "outputs": [],
   "source": [
    "len(list((Path.home() / 'data/e-delib/kialo/kialoV2/english').glob('**/*.pkl')))"
   ]
  },
  {
   "cell_type": "code",
   "execution_count": null,
   "metadata": {},
   "outputs": [],
   "source": [
    "len(list((Path.home() / 'data/e-delib/kialo/kialoV2/other').glob('**/*.pkl')))"
   ]
  },
  {
   "cell_type": "code",
   "execution_count": null,
   "metadata": {},
   "outputs": [],
   "source": [
    "import pandas as pd\n",
    "from pathlib import Path\n",
    "\n",
    "from kialo_util import read_data\n",
    "\n",
    "maps = read_data({'local': True, 'debug_maps_size': 10, 'debug_maps_size': None, 'lang': None})"
   ]
  },
  {
   "cell_type": "code",
   "execution_count": null,
   "metadata": {},
   "outputs": [],
   "source": [
    "maps[0].name"
   ]
  },
  {
   "cell_type": "code",
   "execution_count": null,
   "metadata": {},
   "outputs": [],
   "source": [
    "import pandas as pd\n",
    "\n",
    "maps_df = pd.DataFrame([{'id': m.id, 'size': m.number_of_children(), 'name': m.name} for m in maps]).set_index('id')\n",
    "maps_df"
   ]
  },
  {
   "cell_type": "markdown",
   "metadata": {},
   "source": [
    "## Analyse Map Results "
   ]
  },
  {
   "cell_type": "code",
   "execution_count": null,
   "metadata": {},
   "outputs": [],
   "source": [
    "from pathlib import Path\n",
    "import json\n",
    "def get_results_path(experiment):    \n",
    "    data_path = Path.home() / 'data/delib-results/results'\n",
    "    return data_path / experiment / '-results'"
   ]
  },
  {
   "cell_type": "code",
   "execution_count": null,
   "metadata": {},
   "outputs": [],
   "source": [
    "# experiment = 'kialov2-no_hard_negatives-detailed'\n",
    "experiment = 'use_templates-train_10000'\n",
    "# experiment = 'no_templates-train_10000'\n",
    "\n",
    "results_path = get_results_path(experiment)\n",
    "\n",
    "# with open(results_path / 'all/all_maps.json') as data_faile:    \n",
    "#     data = json.load(data_file)  \n",
    "# df = pd.DataFrame.from_dict(data, orient='index')\n",
    "# df = pd.json_normalize(df)\n",
    "# df\n",
    "    \n",
    "df = pd.read_json(results_path / 'all/all_maps.json', orient='index')\n",
    "# display(df)\n",
    "# df.iloc[0]['all']['mrr']\n",
    "df_dict = {k: pd.json_normalize(df[k].apply(lambda x: {} if pd.isna(x) else x)).set_index(df.index) for k in df.columns}\n",
    "df_dict['only_leafs_limited_types']"
   ]
  },
  {
   "cell_type": "code",
   "execution_count": null,
   "metadata": {},
   "outputs": [],
   "source": [
    "df_dict.keys()"
   ]
  },
  {
   "cell_type": "code",
   "execution_count": null,
   "metadata": {},
   "outputs": [],
   "source": [
    "results_df = df_dict['only_leafs_limited_types'].join(maps_df)\n",
    "results_df"
   ]
  },
  {
   "cell_type": "code",
   "execution_count": null,
   "metadata": {},
   "outputs": [],
   "source": [
    "results_df[results_df['size']<=20]"
   ]
  },
  {
   "cell_type": "code",
   "execution_count": null,
   "metadata": {},
   "outputs": [],
   "source": [
    "for s in [20, 50, 100, 500, 1000, 2000]:\n",
    "    print(f\"<{s:<10}{results_df[results_df['size']<s]['p5'].mean():.4f}\")\n",
    "print(f\">={s:<10}{results_df[results_df['size']>=s]['p5'].mean():.4f}\")"
   ]
  },
  {
   "cell_type": "code",
   "execution_count": null,
   "metadata": {},
   "outputs": [],
   "source": [
    "results_df.hist('size');"
   ]
  },
  {
   "cell_type": "code",
   "execution_count": null,
   "metadata": {},
   "outputs": [],
   "source": [
    "results_df.plot(x='size', y='p5', kind='scatter');"
   ]
  },
  {
   "cell_type": "code",
   "execution_count": null,
   "metadata": {},
   "outputs": [],
   "source": [
    "import seaborn as sns\n",
    "# sns.lmplot(x='size', y='p5', data=results_df)\n",
    "# sns.kdeplot(y='size', x='p5', data=results_df)\n",
    "# sns.kdeplot(results_df[['size', 'p5']])"
   ]
  },
  {
   "cell_type": "markdown",
   "metadata": {},
   "source": [
    "## Analyse Node Results "
   ]
  },
  {
   "cell_type": "code",
   "execution_count": null,
   "metadata": {},
   "outputs": [],
   "source": [
    "import random\n",
    "# experiment = 'kialov2-no_hard_negatives-detailed'\n",
    "experiment = 'annotated_samples_in_test-baseline'\n",
    "# experiment = 'use_templates-trained'\n",
    "# experiment = 'use_templates-train_10000'\n",
    "# experiment = 'no_templates-train_10000'\n",
    "\n",
    "import json\n",
    "all_nodes_results = json.loads((get_results_path(experiment) / 'all/all_nodes.json').read_text())\n",
    "argument_maps_dict = {str(x.id):{n.id:n for n in x.all_children} for x in maps}"
   ]
  },
  {
   "cell_type": "markdown",
   "metadata": {},
   "source": [
    "### double-check results"
   ]
  },
  {
   "cell_type": "code",
   "execution_count": null,
   "metadata": {},
   "outputs": [],
   "source": [
    "errors=[]\n",
    "for map_id, v in all_nodes_results.items():\n",
    "    if v['only_leafs_limited_types']:\n",
    "        for x in v['only_leafs_limited_types']:\n",
    "            if x[1]==1 and x[2]!=argument_maps_dict[map_id][x[0]].parent.id:\n",
    "                errors.append(f\"c={x[0]} predicted={x[2]} actual={argument_maps_dict[map_id][x[0]].parent.id} {x}\")\n",
    "#                 print(errors[-1])\n",
    "assert len(errors)==0, f'{len(errors)} {errors[0]}'"
   ]
  },
  {
   "cell_type": "markdown",
   "metadata": {},
   "source": [
    "### show results "
   ]
  },
  {
   "cell_type": "code",
   "execution_count": null,
   "metadata": {},
   "outputs": [],
   "source": [
    "import random\n",
    "node_id = '6492.1133'\n",
    "random_node = True\n",
    "\n",
    "map_id = int(node_id.split('.')[0])\n",
    "argument_map_results = all_nodes_results[str(map_id)]['only_leafs_limited_types']\n",
    "argument_map_results = {x[0]: x for x in argument_map_results}\n",
    "argument_map = next((x for x in maps if x.id == map_id))"
   ]
  },
  {
   "cell_type": "code",
   "execution_count": null,
   "metadata": {},
   "outputs": [],
   "source": [
    "if random_node:\n",
    "    node_id = random.choice(list(argument_map_results))\n",
    "    \n",
    "node_results = argument_map_results[node_id]\n",
    "node = next((x for x in argument_map.all_children if x.id == node_id))\n",
    "predicted_node = next((x for x in argument_map.all_children if x.id == node_results[2]))\n",
    "print(f\"{node_results[0]} parent {node_results[2]} rank={node_results[1]} dist={node_results[3]} vs \\n{node.id} parent {node.parent.id}\")\n",
    "print(f\"child:\\n{node.name}\")\n",
    "print(f\"actual:\\n{node.parent.name}\")\n",
    "print(f\"predicted:\\n{predicted_node.name}\")"
   ]
  }
 ],
 "metadata": {
  "kernelspec": {
   "display_name": "Python 3",
   "language": "python",
   "name": "python3"
  },
  "language_info": {
   "codemirror_mode": {
    "name": "ipython",
    "version": 3
   },
   "file_extension": ".py",
   "mimetype": "text/x-python",
   "name": "python",
   "nbconvert_exporter": "python",
   "pygments_lexer": "ipython3",
   "version": "3.9.2"
  }
 },
 "nbformat": 4,
 "nbformat_minor": 4
}
