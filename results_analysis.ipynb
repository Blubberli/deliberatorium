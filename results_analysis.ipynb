{
 "cells": [
  {
   "cell_type": "code",
   "execution_count": null,
   "metadata": {
    "pycharm": {
     "name": "#%%\n"
    }
   },
   "outputs": [],
   "source": [
    "experiment = 'kialov2-domains-no_hard_negatives'\n",
    "# experiment = 'one_map-batch_32'\n",
    "# experiment = 'one_map-batch_8'\n",
    "\n",
    "metrics = ['mrr', 'p1', 'p5']\n",
    "metrics = ['mrr', 'p1', 'p5', 'dist']\n",
    "# metrics = ['p1']\n",
    "\n",
    "variant = 'all'\n",
    "variant = 'only_leafs'\n",
    "variant = 'only_leafs_limited_types'\n",
    "\n",
    "ext = 'svg'\n",
    "ext = 'pdf'"
   ]
  },
  {
   "cell_type": "code",
   "execution_count": null,
   "metadata": {
    "pycharm": {
     "name": "#%%\n"
    }
   },
   "outputs": [],
   "source": [
    "from kialo_domains_util import get_subtopic_to_parent\n",
    "sub2maintopic, main2subtopic = get_subtopic_to_parent('data/kialo_domains.tsv')\n",
    "domains = list(main2subtopic.keys())\n",
    "domains"
   ]
  },
  {
   "cell_type": "code",
   "execution_count": null,
   "metadata": {
    "pycharm": {
     "name": "#%%\n"
    }
   },
   "outputs": [],
   "source": [
    "import pandas as pd\n",
    "from pathlib import Path\n",
    "import json\n",
    "\n",
    "data_path = Path.home() / 'data/delib-results/results'\n",
    "\n",
    "def read_results(path):\n",
    "    print(path)\n",
    "#     print(list(data_path.glob(path)))\n",
    "    all_results = []\n",
    "    for i, f in enumerate(data_path.glob(path)):\n",
    "        if not str(f).endswith('-train.json'):\n",
    "            results = json.loads(f.read_text())\n",
    "#             print(f)\n",
    "#             print(results)\n",
    "#             all_results.append({'source': s[s.find('trained-on-')+len('trained-on-'):s.rfind('-')] if 'trained-on-' in s else 'source', 'target': f.stem, **{metric: results[variant][metric] for metric in metrics}})\n",
    "            all_results.append({'source': domains[int(f.parent.parent.name.split('-')[0][len('domain'):])], 'target': f.parent.name, **{metric: results[variant][metric] for metric in metrics}})\n",
    "\n",
    "    df = pd.DataFrame(all_results)\n",
    "    return df\n",
    "df = read_results(f'{experiment}/*-results/*/-avg.json')\n",
    "df"
   ]
  },
  {
   "cell_type": "code",
   "execution_count": null,
   "metadata": {
    "pycharm": {
     "name": "#%%\n"
    }
   },
   "outputs": [],
   "source": [
    "df[df['source']=='religion']"
   ]
  },
  {
   "cell_type": "code",
   "execution_count": null,
   "metadata": {
    "pycharm": {
     "name": "#%%\n"
    }
   },
   "outputs": [],
   "source": [
    "import matplotlib.pyplot as plt\n",
    "import seaborn as sns\n",
    "\n",
    "def plot(metric, i):\n",
    "    g = sns.heatmap(df.pivot_table(values=metric, index='source', columns='target'), annot=True, cmap=sns.cubehelix_palette(start=.5, rot=-.5, dark=0.3, light=.80, reverse=True, as_cmap=True),cbar=False, ax=axes[i])\n",
    "    g.set_xticklabels(g.get_xticklabels(), rotation = 30);\n",
    "    fig = g.get_figure()\n",
    "    plt.tight_layout()\n",
    "    return fig"
   ]
  },
  {
   "cell_type": "code",
   "execution_count": null,
   "metadata": {
    "pycharm": {
     "name": "#%%\n"
    }
   },
   "outputs": [],
   "source": [
    "f, axes = plt.subplots(1, len(metrics), figsize=(12*len(metrics), 10))\n",
    "\n",
    "for i, metric in enumerate(metrics):\n",
    "    fig=plot(metric, i)\n",
    "\n",
    "# fig.savefig(f'results/kialo-{variant}-{\"-\".join(metrics)}.{ext}', format=ext)"
   ]
  },
  {
   "cell_type": "code",
   "execution_count": null,
   "metadata": {
    "pycharm": {
     "name": "#%%\n"
    }
   },
   "outputs": [],
   "source": [
    "df_same = df[df['source']==df['target']]\n",
    "df_same['source'] = 'same'\n",
    "df = df_same"
   ]
  },
  {
   "cell_type": "code",
   "execution_count": null,
   "metadata": {
    "pycharm": {
     "name": "#%%\n"
    }
   },
   "outputs": [],
   "source": [
    "f, axes = plt.subplots(1, len(metrics), figsize=(12*len(metrics), 1))\n",
    "\n",
    "for i, metric in enumerate(metrics):\n",
    "    fig=plot(metric, i)\n",
    "\n",
    "# fig.savefig(f'results/{variant}-{\"-\".join(metrics)}.{ext}', format=ext)"
   ]
  },
  {
   "cell_type": "code",
   "execution_count": null,
   "metadata": {
    "pycharm": {
     "name": "#%%\n"
    }
   },
   "outputs": [],
   "source": [
    "# df = read_results('xlm-roberta-base-evaluated-on-*-results/*')\n",
    "# df = read_results('xlm-roberta-base-dev-evaluated-on-*-dev-*-results/*')\n",
    "df = read_results(f'{experiment}/*-results/*')\n",
    "df['source'] = 'others'\n",
    "df"
   ]
  },
  {
   "cell_type": "code",
   "execution_count": null,
   "metadata": {
    "pycharm": {
     "name": "#%%\n"
    }
   },
   "outputs": [],
   "source": [
    "f, axes = plt.subplots(1, len(metrics), figsize=(4*len(metrics), 0.5))\n",
    "\n",
    "for i, metric in enumerate(metrics):\n",
    "    fig=plot(metric, i)\n",
    "\n",
    "fig.savefig(f'results/others-{experiment}-{variant}-{\"-\".join(metrics)}.{ext}', format=ext)"
   ]
  }
 ],
 "metadata": {
  "kernelspec": {
   "display_name": "Python 3",
   "language": "python",
   "name": "python3"
  },
  "language_info": {
   "codemirror_mode": {
    "name": "ipython",
    "version": 3
   },
   "file_extension": ".py",
   "mimetype": "text/x-python",
   "name": "python",
   "nbconvert_exporter": "python",
   "pygments_lexer": "ipython3",
   "version": "3.9.2"
  }
 },
 "nbformat": 4,
 "nbformat_minor": 4
}